{
 "cells": [
  {
   "cell_type": "code",
   "execution_count": 122,
   "id": "a801501b",
   "metadata": {},
   "outputs": [],
   "source": [
    "import numpy as np\n",
    "import pickle\n",
    "import re"
   ]
  },
  {
   "cell_type": "code",
   "execution_count": 123,
   "id": "3b02a13b",
   "metadata": {},
   "outputs": [],
   "source": [
    "import tensorflow\n",
    "from tensorflow.keras.preprocessing.text import Tokenizer\n",
    "from tensorflow.keras.preprocessing.sequence import pad_sequences"
   ]
  },
  {
   "cell_type": "code",
   "execution_count": 124,
   "id": "2169680d",
   "metadata": {},
   "outputs": [],
   "source": [
    "def text_preprocess(text, stop_words=False):\n",
    "  '''\n",
    "  Accepts text (a single string) and\n",
    "  a parameters of preprocessing\n",
    "  Returns preprocessed text\n",
    "\n",
    "  '''\n",
    "  # clean text from non-words\n",
    "  text = re.sub(r'\\W+', ' ', text).lower()\n",
    "\n",
    "  # tokenize the text\n",
    "  tokens = word_tokenize(text)\n",
    "\n",
    "  if stop_words:\n",
    "    # delete stop_words\n",
    "    tokens = [token for token in tokens if token not in STOPWORDS]\n",
    "\n",
    "  return tokens"
   ]
  },
  {
   "cell_type": "code",
   "execution_count": 125,
   "id": "6d9769f1",
   "metadata": {},
   "outputs": [],
   "source": [
    "with open('mood_predict.pkl', 'rb') as f:\n",
    "    model_dict = pickle.load(f)"
   ]
  },
  {
   "cell_type": "code",
   "execution_count": 126,
   "id": "fbc3d3a6",
   "metadata": {},
   "outputs": [],
   "source": [
    "tokenizer = model_dict['tokenizer']\n",
    "weight_matrix = model_dict['weight_matrix']\n",
    "model = model_dict['model']"
   ]
  },
  {
   "cell_type": "code",
   "execution_count": 127,
   "id": "3eaae4ee",
   "metadata": {},
   "outputs": [],
   "source": [
    "emotions_to_labels = {'anger': 0, 'love': 1, 'fear': 2, 'joy': 3, 'sadness': 4,'surprise': 5}\n",
    "labels_to_emotions = {j:i for i,j in emotions_to_labels.items()}"
   ]
  },
  {
   "cell_type": "code",
   "execution_count": 128,
   "id": "033f7a02",
   "metadata": {},
   "outputs": [],
   "source": [
    "def predict(texts):\n",
    "  '''\n",
    "  Accepts array if texts (strings)\n",
    "  Prints sentence and the corresponding label (emotion)\n",
    "  Returns nothing\n",
    "  \n",
    "  '''\n",
    "  texts_prepr = [text_preprocess(t) for t in texts]\n",
    "  sequences = tokenizer.texts_to_sequences(texts_prepr)\n",
    "  pad = pad_sequences(sequences, maxlen=35)\n",
    "\n",
    "  predictions = model.predict(pad)\n",
    "  labels = np.argmax(predictions, axis=1)\n",
    "  \n",
    "  for i, lbl in enumerate(labels):\n",
    "    print(f'\\'{texts[i]}\\' --> {labels_to_emotions[lbl]}')"
   ]
  },
  {
   "cell_type": "code",
   "execution_count": 146,
   "id": "4ff80489",
   "metadata": {
    "scrolled": false
   },
   "outputs": [
    {
     "name": "stdout",
     "output_type": "stream",
     "text": [
      "1/1 [==============================] - 0s 46ms/step\n",
      "' I dont like this food' --> anger\n",
      "'I am feeling sad' --> sadness\n",
      "'I scored full marks ' --> joy\n"
     ]
    }
   ],
   "source": [
    "test_texts = [' I dont like this food','I am feeling sad','I scored full marks ']\n",
    "\n",
    "predict(test_texts)"
   ]
  },
  {
   "cell_type": "code",
   "execution_count": null,
   "id": "d21ddf32",
   "metadata": {},
   "outputs": [],
   "source": []
  }
 ],
 "metadata": {
  "kernelspec": {
   "display_name": "Python 3 (ipykernel)",
   "language": "python",
   "name": "python3"
  },
  "language_info": {
   "codemirror_mode": {
    "name": "ipython",
    "version": 3
   },
   "file_extension": ".py",
   "mimetype": "text/x-python",
   "name": "python",
   "nbconvert_exporter": "python",
   "pygments_lexer": "ipython3",
   "version": "3.10.9"
  }
 },
 "nbformat": 4,
 "nbformat_minor": 5
}
