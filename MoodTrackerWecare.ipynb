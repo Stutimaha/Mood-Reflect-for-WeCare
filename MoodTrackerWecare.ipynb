{
 "cells": [
  {
   "cell_type": "code",
   "execution_count": 1,
   "metadata": {
    "id": "k9r7sBaEgngm"
   },
   "outputs": [],
   "source": [
    "import re # regex\n",
    "import pandas as pd # tables\n",
    "import matplotlib.pyplot as plt # plots\n",
    "import seaborn as sns # plots\n",
    "import numpy as np "
   ]
  },
  {
   "cell_type": "code",
   "execution_count": 2,
   "metadata": {
    "id": "0-DC-anXg0rN",
    "scrolled": true
   },
   "outputs": [],
   "source": [
    "train = pd.read_csv('train.txt', header=None, sep=';', names=['Lines','Emotions'], encoding='utf-8')\n",
    "test = pd.read_csv('test.txt', header=None, sep =';', names=['Lines','Emotions'], encoding='utf-8')\n",
    "validation = pd.read_csv('val.txt', header=None, sep=';', names=['Lines','Emotions'], encoding='utf-8')"
   ]
  },
  {
   "cell_type": "code",
   "execution_count": 3,
   "metadata": {
    "id": "PYIPtcPSg50X"
   },
   "outputs": [],
   "source": [
    "# adding a column with encoded emotions\n",
    "emotions_to_labels = {'anger': 0, 'love': 1, 'fear': 2, 'joy': 3, 'sadness': 4,'surprise': 5}\n",
    "labels_to_emotions = {j:i for i,j in emotions_to_labels.items()}\n",
    "\n",
    "train['Labels'] = train['Emotions'].replace(emotions_to_labels)\n",
    "test['Labels'] = test['Emotions'].replace(emotions_to_labels)\n",
    "validation['Labels'] = validation['Emotions'].replace(emotions_to_labels)"
   ]
  },
  {
   "cell_type": "code",
   "execution_count": 4,
   "metadata": {
    "colab": {
     "base_uri": "https://localhost:8080/",
     "height": 206
    },
    "id": "syoNP0HehMg7",
    "outputId": "54afac4e-06f2-4d67-c263-11c09f4d35dc"
   },
   "outputs": [
    {
     "data": {
      "text/html": [
       "<div>\n",
       "<style scoped>\n",
       "    .dataframe tbody tr th:only-of-type {\n",
       "        vertical-align: middle;\n",
       "    }\n",
       "\n",
       "    .dataframe tbody tr th {\n",
       "        vertical-align: top;\n",
       "    }\n",
       "\n",
       "    .dataframe thead th {\n",
       "        text-align: right;\n",
       "    }\n",
       "</style>\n",
       "<table border=\"1\" class=\"dataframe\">\n",
       "  <thead>\n",
       "    <tr style=\"text-align: right;\">\n",
       "      <th></th>\n",
       "      <th>Lines</th>\n",
       "      <th>Emotions</th>\n",
       "      <th>Labels</th>\n",
       "    </tr>\n",
       "  </thead>\n",
       "  <tbody>\n",
       "    <tr>\n",
       "      <th>0</th>\n",
       "      <td>i didnt feel humiliated</td>\n",
       "      <td>sadness</td>\n",
       "      <td>4</td>\n",
       "    </tr>\n",
       "    <tr>\n",
       "      <th>1</th>\n",
       "      <td>i can go from feeling so hopeless to so damned...</td>\n",
       "      <td>sadness</td>\n",
       "      <td>4</td>\n",
       "    </tr>\n",
       "    <tr>\n",
       "      <th>2</th>\n",
       "      <td>im grabbing a minute to post i feel greedy wrong</td>\n",
       "      <td>anger</td>\n",
       "      <td>0</td>\n",
       "    </tr>\n",
       "    <tr>\n",
       "      <th>3</th>\n",
       "      <td>i am ever feeling nostalgic about the fireplac...</td>\n",
       "      <td>love</td>\n",
       "      <td>1</td>\n",
       "    </tr>\n",
       "    <tr>\n",
       "      <th>4</th>\n",
       "      <td>i am feeling grouchy</td>\n",
       "      <td>anger</td>\n",
       "      <td>0</td>\n",
       "    </tr>\n",
       "  </tbody>\n",
       "</table>\n",
       "</div>"
      ],
      "text/plain": [
       "                                               Lines Emotions  Labels\n",
       "0                            i didnt feel humiliated  sadness       4\n",
       "1  i can go from feeling so hopeless to so damned...  sadness       4\n",
       "2   im grabbing a minute to post i feel greedy wrong    anger       0\n",
       "3  i am ever feeling nostalgic about the fireplac...     love       1\n",
       "4                               i am feeling grouchy    anger       0"
      ]
     },
     "execution_count": 4,
     "metadata": {},
     "output_type": "execute_result"
    }
   ],
   "source": [
    "train.head()\n"
   ]
  },
  {
   "cell_type": "code",
   "execution_count": 5,
   "metadata": {
    "id": "k5dzVW7uhMy2"
   },
   "outputs": [],
   "source": [
    "def visualize_labels_distribution(df, title='the'):\n",
    "  '''\n",
    "  Accepts a dataframe with 'Emotions' column and dataset title (e.g. 'train')\n",
    "  Creates bar chart with num of elements of each category\n",
    "  Returns nothing\n",
    "\n",
    "  '''\n",
    "  # create a pandas series with labels and their counts\n",
    "  num_labels = df['Emotions'].value_counts()\n",
    "\n",
    "  # num of unique categories\n",
    "  x_barchart = range(df['Emotions'].nunique())\n",
    "  # list of labels\n",
    "  x_barchart_labels = [str(emotions_to_labels[emotion]) +\\\n",
    "                       ' - ' + emotion for emotion in list(num_labels.index)]\n",
    "\n",
    "  # list of counts\n",
    "  y_barchart = list(num_labels.values)\n",
    "\n",
    "  # creating bar chart\n",
    "  plt.figure(figsize = (5, 4))\n",
    "  plt.bar(x_barchart, y_barchart, color='#707bfb')\n",
    "\n",
    "  # adding num of elements for each category on plot as text\n",
    "  for index, data in enumerate(y_barchart):\n",
    "    plt.text(x = index, \n",
    "            y = data+max(y_barchart)/100, \n",
    "            s = '{}'.format(data), \n",
    "            fontdict = dict(fontsize=10), \n",
    "            ha = 'center',)\n",
    "  \n",
    "  plt.xticks(x_barchart, x_barchart_labels, rotation=40)\n",
    "  plt.title('Num of elements of each category for {} dataset'.format(title))\n",
    "  plt.tight_layout()\n",
    "\n",
    "  print('There are {} records in the dataset.\\n'.format(len(df.index)))\n",
    "\n",
    "  plt.show()"
   ]
  },
  {
   "cell_type": "code",
   "execution_count": 6,
   "metadata": {
    "colab": {
     "base_uri": "https://localhost:8080/",
     "height": 1000
    },
    "id": "yIku_bv3hM1i",
    "outputId": "ba0941b6-eae0-4d2b-eb34-f61acfaa5cef"
   },
   "outputs": [
    {
     "name": "stdout",
     "output_type": "stream",
     "text": [
      "There are 16000 records in the dataset.\n",
      "\n"
     ]
    },
    {
     "data": {
      "image/png": "[encoded data removed]",
      "text/plain": [
       "<Figure size 500x400 with 1 Axes>"
      ]
     },
     "metadata": {},
     "output_type": "display_data"
    },
    {
     "name": "stdout",
     "output_type": "stream",
     "text": [
      "There are 2000 records in the dataset.\n",
      "\n"
     ]
    },
    {
     "data": {
      "image/png": "[encoded data removed]",
      "text/plain": [
       "<Figure size 500x400 with 1 Axes>"
      ]
     },
     "metadata": {},
     "output_type": "display_data"
    },
    {
     "name": "stdout",
     "output_type": "stream",
     "text": [
      "There are 2000 records in the dataset.\n",
      "\n"
     ]
    },
    {
     "data": {
      "image/png": "[encoded data removed]",
      "text/plain": [
       "<Figure size 500x400 with 1 Axes>"
      ]
     },
     "metadata": {},
     "output_type": "display_data"
    }
   ],
   "source": [
    "visualize_labels_distribution(train, 'train')\n",
    "visualize_labels_distribution(test, 'test')\n",
    "visualize_labels_distribution(validation, 'val')"
   ]
  },
  {
   "cell_type": "markdown",
   "metadata": {
    "id": "Xy3zo3owj808"
   },
   "source": [
    "Text preprocessing\n"
   ]
  },
  {
   "cell_type": "code",
   "execution_count": 7,
   "metadata": {
    "colab": {
     "base_uri": "https://localhost:8080/"
    },
    "id": "5s9jDiwShM4x",
    "outputId": "35356469-6706-46b8-9b0e-69073715266e"
   },
   "outputs": [
    {
     "name": "stderr",
     "output_type": "stream",
     "text": [
      "[nltk_data] Downloading package punkt to\n",
      "[nltk_data]     /Users/janmeshSingh/nltk_data...\n",
      "[nltk_data]   Package punkt is already up-to-date!\n",
      "[nltk_data] Downloading package stopwords to\n",
      "[nltk_data]     /Users/janmeshSingh/nltk_data...\n",
      "[nltk_data]   Package stopwords is already up-to-date!\n"
     ]
    }
   ],
   "source": [
    "import nltk \n",
    "nltk.download('punkt')\n",
    "nltk.download('stopwords')\n",
    "from nltk.corpus import stopwords\n",
    "\n",
    "# downloading a set of stop-words\n",
    "STOPWORDS = set(stopwords.words('english'))\n",
    "\n",
    "# tokenizer\n",
    "from nltk.tokenize import word_tokenize"
   ]
  },
  {
   "cell_type": "code",
   "execution_count": 8,
   "metadata": {
    "id": "F7vHl1J8hM7b"
   },
   "outputs": [],
   "source": [
    "def text_preprocess(text, stop_words=False):\n",
    "  '''\n",
    "  Accepts text (a single string) and\n",
    "  a parameters of preprocessing\n",
    "  Returns preprocessed text\n",
    "\n",
    "  '''\n",
    "  # clean text from non-words\n",
    "  text = re.sub(r'\\W+', ' ', text).lower()\n",
    "\n",
    "  # tokenize the text\n",
    "  tokens = word_tokenize(text)\n",
    "\n",
    "  if stop_words:\n",
    "    # delete stop_words\n",
    "    tokens = [token for token in tokens if token not in STOPWORDS]\n",
    "\n",
    "  return tokens"
   ]
  },
  {
   "cell_type": "code",
   "execution_count": 9,
   "metadata": {
    "colab": {
     "base_uri": "https://localhost:8080/"
    },
    "id": "9JAZpuY8hM9_",
    "outputId": "36d208d0-3638-4c5d-be86-49c9238be2ba"
   },
   "outputs": [
    {
     "name": "stdout",
     "output_type": "stream",
     "text": [
      "Before: \n",
      "                                               Lines Emotions  Labels\n",
      "0                            i didnt feel humiliated  sadness       4\n",
      "1  i can go from feeling so hopeless to so damned...  sadness       4\n",
      "2   im grabbing a minute to post i feel greedy wrong    anger       0\n",
      "3  i am ever feeling nostalgic about the fireplac...     love       1\n",
      "4                               i am feeling grouchy    anger       0\n",
      "\n",
      "After:\n",
      "(['didnt', 'feel', 'humiliated'], 4)\n",
      "(['go', 'feeling', 'hopeless', 'damned', 'hopeful', 'around', 'someone', 'cares', 'awake'], 4)\n",
      "(['im', 'grabbing', 'minute', 'post', 'feel', 'greedy', 'wrong'], 0)\n",
      "(['ever', 'feeling', 'nostalgic', 'fireplace', 'know', 'still', 'property'], 1)\n",
      "(['feeling', 'grouchy'], 0)\n"
     ]
    }
   ],
   "source": [
    "print('Before: ')\n",
    "print(train.head())\n",
    "\n",
    "x_train = [text_preprocess(t, stop_words=True) for t in train['Lines']]\n",
    "y_train = train['Labels'].values\n",
    "\n",
    "print('\\nAfter:')\n",
    "for line_and_label in list(zip(x_train[:5], y_train[:5])):\n",
    "  print(line_and_label)"
   ]
  },
  {
   "cell_type": "code",
   "execution_count": 10,
   "metadata": {
    "id": "eLUIWzomhNAn"
   },
   "outputs": [],
   "source": [
    "x_test = [text_preprocess(t, stop_words=True) for t in test['Lines']]\n",
    "y_test = test['Labels'].values\n",
    "\n",
    "x_validation = [text_preprocess(t, stop_words=True) for t in validation['Lines']]\n",
    "y_validation = validation['Labels'].values"
   ]
  },
  {
   "cell_type": "markdown",
   "metadata": {
    "id": "Xg1z4eaBkS4d"
   },
   "source": [
    "Word embeddings¶\n"
   ]
  },
  {
   "cell_type": "code",
   "execution_count": 11,
   "metadata": {
    "colab": {
     "base_uri": "https://localhost:8080/"
    },
    "id": "zzDlJjjOhNDb",
    "outputId": "77cfa7c5-4b81-4fbc-ba6f-9b50ffce7ede"
   },
   "outputs": [],
   "source": [
    "# load pre-trained model\n",
    "import gensim.downloader as api\n",
    "model_wiki = api.load('fasttext-wiki-news-subwords-300')"
   ]
  },
  {
   "cell_type": "code",
   "execution_count": 12,
   "metadata": {
    "id": "aPFSMin-hNGQ"
   },
   "outputs": [],
   "source": [
    "from gensim.models import Word2Vec\n",
    "\n",
    "# train word2vec model on the corpus\n",
    "model_w2v = Word2Vec(x_train + x_test + x_validation,   # data for model to train on\n",
    "                 vector_size = 300,                            # embedding vector size\n",
    "                 min_count = 2).wv"
   ]
  },
  {
   "cell_type": "markdown",
   "metadata": {
    "id": "zp76XyVSkeD2"
   },
   "source": [
    "Converting sentences into vectors¶\n"
   ]
  },
  {
   "cell_type": "code",
   "execution_count": 13,
   "metadata": {
    "id": "9-OgSwSmhNJP"
   },
   "outputs": [],
   "source": [
    "import tensorflow\n",
    "from tensorflow.keras.preprocessing.text import Tokenizer\n"
   ]
  },
  {
   "cell_type": "code",
   "execution_count": 14,
   "metadata": {
    "id": "5U7i0_TRhNMx"
   },
   "outputs": [],
   "source": [
    "DICT_SIZE = 15000\n",
    "\n",
    "# creating a dictionary with most used words\n",
    "# where num of words = DICT_SIZE\n",
    "tokenizer = Tokenizer(num_words=DICT_SIZE)\n",
    "total = x_train + x_train + x_validation\n",
    "tokenizer.fit_on_texts(total)\n"
   ]
  },
  {
   "cell_type": "code",
   "execution_count": 15,
   "metadata": {
    "colab": {
     "base_uri": "https://localhost:8080/"
    },
    "id": "LF-jAPSEhNOz",
    "outputId": "f3936d7a-c2b0-4347-c429-d76001142d18"
   },
   "outputs": [
    {
     "data": {
      "text/plain": [
       "[('feel', 1), ('feeling', 2), ('like', 3), ('im', 4), ('really', 5)]"
      ]
     },
     "execution_count": 15,
     "metadata": {},
     "output_type": "execute_result"
    }
   ],
   "source": [
    "# words and their indexes\n",
    "list(tokenizer.word_index.items())[:5]\n"
   ]
  },
  {
   "cell_type": "code",
   "execution_count": 16,
   "metadata": {
    "colab": {
     "base_uri": "https://localhost:8080/"
    },
    "id": "hU4xTk_UhNQ5",
    "outputId": "bb2fcd4b-20c0-4ad7-d56c-46f1a40395f3"
   },
   "outputs": [
    {
     "data": {
      "text/plain": [
       "16045"
      ]
     },
     "execution_count": 16,
     "metadata": {},
     "output_type": "execute_result"
    }
   ],
   "source": [
    "# number of unique words in the corpus\n",
    "len(tokenizer.word_index)"
   ]
  },
  {
   "cell_type": "code",
   "execution_count": 19,
   "metadata": {
    "id": "psf4VwfshNTc"
   },
   "outputs": [],
   "source": [
    "# find max length of sentences across all parts of the dataset\n",
    "x_train_max_len = max([len(i) for i in x_train])\n",
    "x_test_max_len = max([len(i) for i in x_test])\n",
    "x_validation_max_len = max([len(i) for i in x_validation])\n",
    "\n",
    "MAX_LEN = max(x_train_max_len, x_test_max_len, x_validation_max_len)"
   ]
  },
  {
   "cell_type": "code",
   "execution_count": 20,
   "metadata": {
    "colab": {
     "base_uri": "https://localhost:8080/"
    },
    "id": "SlLVojUOhNWj",
    "outputId": "aa57a83a-9b41-4ad8-bccd-a6d57db6ac91"
   },
   "outputs": [
    {
     "data": {
      "text/plain": [
       "35"
      ]
     },
     "execution_count": 20,
     "metadata": {},
     "output_type": "execute_result"
    }
   ],
   "source": [
    "# max length across all sentences\n",
    "MAX_LEN\n"
   ]
  },
  {
   "cell_type": "code",
   "execution_count": 21,
   "metadata": {
    "id": "zbDE9GyahNZn"
   },
   "outputs": [],
   "source": [
    "from tensorflow.keras.preprocessing.sequence import pad_sequences"
   ]
  },
  {
   "cell_type": "code",
   "execution_count": 22,
   "metadata": {
    "id": "OtaUvCjBhNcM"
   },
   "outputs": [],
   "source": [
    "# replace words with their indexes, \n",
    "# change size of vectors to MAX_LEN and pad indexes \n",
    "X_train = tokenizer.texts_to_sequences(x_train)\n",
    "X_train_pad = pad_sequences(X_train, maxlen=MAX_LEN)\n",
    "\n",
    "X_test = tokenizer.texts_to_sequences(x_test)\n",
    "X_test_pad = pad_sequences(X_test, maxlen=MAX_LEN)\n",
    "\n",
    "X_val = tokenizer.texts_to_sequences(x_validation)\n",
    "X_val_pad = pad_sequences(X_val, maxlen=MAX_LEN)"
   ]
  },
  {
   "cell_type": "code",
   "execution_count": 23,
   "metadata": {
    "colab": {
     "base_uri": "https://localhost:8080/"
    },
    "id": "dwl2gZ7TkxUy",
    "outputId": "fc2af15a-ec01-4eeb-d121-d05dc60beb2c"
   },
   "outputs": [
    {
     "data": {
      "text/plain": [
       "[51, 1, 556]"
      ]
     },
     "execution_count": 23,
     "metadata": {},
     "output_type": "execute_result"
    }
   ],
   "source": [
    "# words are replaced by their indexes\n",
    "X_train[0]\n"
   ]
  },
  {
   "cell_type": "code",
   "execution_count": 24,
   "metadata": {
    "colab": {
     "base_uri": "https://localhost:8080/"
    },
    "id": "agvBryrzkxSn",
    "outputId": "11a8fc17-a377-4674-cda3-10cd06c81b0e"
   },
   "outputs": [
    {
     "data": {
      "text/plain": [
       "array([  0,   0,   0,   0,   0,   0,   0,   0,   0,   0,   0,   0,   0,\n",
       "         0,   0,   0,   0,   0,   0,   0,   0,   0,   0,   0,   0,   0,\n",
       "         0,   0,   0,   0,   0,   0,  51,   1, 556], dtype=int32)"
      ]
     },
     "execution_count": 24,
     "metadata": {},
     "output_type": "execute_result"
    }
   ],
   "source": [
    "# sentence after padding\n",
    "X_train_pad[0]"
   ]
  },
  {
   "cell_type": "markdown",
   "metadata": {
    "id": "OapbmXK2k5En"
   },
   "source": [
    "Embedding matrix¶\n"
   ]
  },
  {
   "cell_type": "code",
   "execution_count": 25,
   "metadata": {
    "id": "vXPpowbtkxQU"
   },
   "outputs": [],
   "source": [
    "def create_weight_matrix(model, second_model=False):\n",
    "  '''\n",
    "  Accepts word embedding model\n",
    "  and the second model, if provided\n",
    "  Returns weight matrix of size m*n, where\n",
    "  m - size of the dictionary\n",
    "  n - size of the word embedding vector\n",
    "\n",
    "  '''\n",
    "  vector_size = model.get_vector('like').shape[0]\n",
    "  w_matrix = np.zeros((DICT_SIZE, vector_size))\n",
    "  skipped_words = []\n",
    "\n",
    "  for word, index in tokenizer.word_index.items():\n",
    "    if index < DICT_SIZE:\n",
    "      if word in model.key_to_index: \n",
    "        w_matrix[index] = model.get_vector(word)\n",
    "      else:\n",
    "        if second_model:\n",
    "          if word in second_model.key_to_index:\n",
    "            w_matrix[index] = second_model.get_vector(word)\n",
    "          else:\n",
    "            skipped_words.append(word)\n",
    "        else:\n",
    "          skipped_words.append(word)\n",
    " \n",
    "  print(f'{len(skipped_words)} words were skipped. Some of them:')\n",
    "  print(skipped_words[:50])\n",
    "  return w_matrix"
   ]
  },
  {
   "cell_type": "code",
   "execution_count": 26,
   "metadata": {
    "colab": {
     "base_uri": "https://localhost:8080/"
    },
    "id": "S8ux6gjSkxOO",
    "outputId": "d9eaff70-a6a2-41c2-8e2f-9df9519de341"
   },
   "outputs": [
    {
     "name": "stdout",
     "output_type": "stream",
     "text": [
      "991 words were skipped. Some of them:\n",
      "['jacynthe', 'rupaul', 'kayle', 'gerling', 'mxm', 'dannika', 'hyperchondria', 'manitz', 'educationg', 'gosman', 'montauk', 'bummin', 'wheeeeee', 'underwears', 'olivias', 'bandhu', 'uplifter', 'suicidalness', 'dykey', 'provokingbeauty', 'bodypump', 'honkerblonked', 'clermont', 'instructables', 'janne', 'suominen', 'kamiki', 'nozomi', 'nonchan', 'beaubronz', 'docrat', 'allthingsbucks', 'irresponcible', 'scruncher', 'utf', 'isprivate', 'ismobile', 'mobileclass', 'isprivateblog', 'languagedirection', 'feedlinks', 'lorena', 'handss', 'nervs', 'mommyhood', 'nowwwwww', 'whitleys', 'forelorn', 'baachan', 'covingtons']\n"
     ]
    }
   ],
   "source": [
    "weight_matrix = create_weight_matrix(model_wiki, model_w2v)"
   ]
  },
  {
   "cell_type": "code",
   "execution_count": 27,
   "metadata": {
    "colab": {
     "base_uri": "https://localhost:8080/"
    },
    "id": "SO0fp49mkxL8",
    "outputId": "95ea0e8c-baec-4690-b69b-1d09c99c6d48"
   },
   "outputs": [
    {
     "data": {
      "text/plain": [
       "(15000, 300)"
      ]
     },
     "execution_count": 27,
     "metadata": {},
     "output_type": "execute_result"
    }
   ],
   "source": [
    "weight_matrix.shape"
   ]
  },
  {
   "cell_type": "markdown",
   "metadata": {
    "id": "_J4EWqO_lFXB"
   },
   "source": [
    "DL model"
   ]
  },
  {
   "cell_type": "code",
   "execution_count": 33,
   "metadata": {
    "id": "-aKa4vofkxJe"
   },
   "outputs": [],
   "source": [
    "# import models, layers, optimizers from tensorflow\n",
    "from tensorflow.keras.models import Sequential\n",
    "from tensorflow.keras.layers import Embedding, LSTM, Bidirectional, Dense, Dropout\n",
    "from tensorflow.keras.optimizers import Adam"
   ]
  },
  {
   "cell_type": "code",
   "execution_count": 34,
   "metadata": {
    "id": "JGeqdlfhkxHL"
   },
   "outputs": [],
   "source": [
    "# import and initialize early stopping\n",
    "from tensorflow.keras.callbacks import EarlyStopping\n",
    "stop = EarlyStopping(monitor='val_loss', mode='min', verbose=1, patience=3)"
   ]
  },
  {
   "cell_type": "code",
   "execution_count": 35,
   "metadata": {
    "id": "lpGeAnvqlLLU"
   },
   "outputs": [],
   "source": [
    "# initialize sequential model\n",
    "model = Sequential()\n",
    "model.add(Embedding(input_dim = DICT_SIZE, # the whole vocabulary size\n",
    "                    output_dim = weight_matrix.shape[1], # vector space dimension\n",
    "                    input_length = X_train_pad.shape[1], # max_len of text sequence\n",
    "                    weights=[weight_matrix], # assign the embedding weight with embedding marix\n",
    "                    trainable=False)) # set the weight to be not trainable (static)"
   ]
  },
  {
   "cell_type": "code",
   "execution_count": 36,
   "metadata": {
    "id": "Vpi6X0OxlLIJ"
   },
   "outputs": [],
   "source": [
    "model.add(Bidirectional(LSTM(128, return_sequences=True))) \n",
    "model.add(Dropout(0.2))\n",
    "model.add(Bidirectional(LSTM(256, return_sequences=True)))\n",
    "model.add(Dropout(0.2))\n",
    "model.add(Bidirectional(LSTM(128, return_sequences=False)))\n",
    "model.add(Dense(6, activation = 'softmax'))\n",
    "model.compile(loss='sparse_categorical_crossentropy', optimizer='adam', metrics='accuracy')"
   ]
  },
  {
   "cell_type": "code",
   "execution_count": 37,
   "metadata": {
    "colab": {
     "base_uri": "https://localhost:8080/"
    },
    "id": "fEOSBvjrlLA8",
    "outputId": "3786023b-cd60-4015-8414-29471b983f66"
   },
   "outputs": [
    {
     "name": "stdout",
     "output_type": "stream",
     "text": [
      "Epoch 1/20\n",
      "63/63 [==============================] - 70s 1s/step - loss: 1.4523 - accuracy: 0.4491 - val_loss: 1.2273 - val_accuracy: 0.5495\n",
      "Epoch 2/20\n",
      "63/63 [==============================] - 66s 1s/step - loss: 1.1441 - accuracy: 0.5681 - val_loss: 0.9600 - val_accuracy: 0.6450\n",
      "Epoch 3/20\n",
      "63/63 [==============================] - 65s 1s/step - loss: 0.9112 - accuracy: 0.6695 - val_loss: 0.8427 - val_accuracy: 0.6855\n",
      "Epoch 4/20\n",
      "63/63 [==============================] - 66s 1s/step - loss: 0.7325 - accuracy: 0.7331 - val_loss: 0.6285 - val_accuracy: 0.7695\n",
      "Epoch 5/20\n",
      "63/63 [==============================] - 69s 1s/step - loss: 0.5775 - accuracy: 0.7916 - val_loss: 0.5508 - val_accuracy: 0.8055\n",
      "Epoch 6/20\n",
      "63/63 [==============================] - 67s 1s/step - loss: 0.4871 - accuracy: 0.8217 - val_loss: 0.4750 - val_accuracy: 0.8335\n",
      "Epoch 7/20\n",
      "63/63 [==============================] - 74s 1s/step - loss: 0.4125 - accuracy: 0.8488 - val_loss: 0.4150 - val_accuracy: 0.8480\n",
      "Epoch 8/20\n",
      "63/63 [==============================] - 82s 1s/step - loss: 0.3519 - accuracy: 0.8676 - val_loss: 0.3734 - val_accuracy: 0.8540\n",
      "Epoch 9/20\n",
      "63/63 [==============================] - 73s 1s/step - loss: 0.3047 - accuracy: 0.8839 - val_loss: 0.3756 - val_accuracy: 0.8605\n",
      "Epoch 10/20\n",
      "63/63 [==============================] - 73s 1s/step - loss: 0.2819 - accuracy: 0.8926 - val_loss: 0.3062 - val_accuracy: 0.8775\n",
      "Epoch 11/20\n",
      "63/63 [==============================] - 75s 1s/step - loss: 0.2396 - accuracy: 0.9062 - val_loss: 0.3017 - val_accuracy: 0.8890\n",
      "Epoch 12/20\n",
      "63/63 [==============================] - 545s 9s/step - loss: 0.2288 - accuracy: 0.9097 - val_loss: 0.2971 - val_accuracy: 0.8830\n",
      "Epoch 13/20\n",
      "63/63 [==============================] - 69s 1s/step - loss: 0.2009 - accuracy: 0.9175 - val_loss: 0.2867 - val_accuracy: 0.8960\n",
      "Epoch 14/20\n",
      "63/63 [==============================] - 78s 1s/step - loss: 0.1798 - accuracy: 0.9268 - val_loss: 0.2624 - val_accuracy: 0.8930\n",
      "Epoch 15/20\n",
      "63/63 [==============================] - 66s 1s/step - loss: 0.1649 - accuracy: 0.9319 - val_loss: 0.2831 - val_accuracy: 0.9020\n",
      "Epoch 16/20\n",
      "63/63 [==============================] - 66s 1s/step - loss: 0.1522 - accuracy: 0.9362 - val_loss: 0.2780 - val_accuracy: 0.8960\n",
      "Epoch 17/20\n",
      "63/63 [==============================] - 65s 1s/step - loss: 0.1369 - accuracy: 0.9415 - val_loss: 0.2707 - val_accuracy: 0.8980\n",
      "Epoch 17: early stopping\n"
     ]
    }
   ],
   "source": [
    "history = model.fit(X_train_pad, y_train, \n",
    "                    validation_data = (X_val_pad, y_validation),\n",
    "                    batch_size = 256,\n",
    "                    epochs = 20, \n",
    "                    callbacks = stop)"
   ]
  },
  {
   "cell_type": "markdown",
   "metadata": {
    "id": "C-BcWhiMlUhf"
   },
   "source": [
    "Evaluate model"
   ]
  },
  {
   "cell_type": "code",
   "execution_count": 38,
   "metadata": {
    "id": "H56YjFrrlRzS"
   },
   "outputs": [],
   "source": [
    "def plot_history(history):\n",
    "    '''\n",
    "    Plots training and validation accuracy and loss\n",
    "    Accepts a single param - history, where\n",
    "    history - keras.callbacks.History object\n",
    "    Returns nothing\n",
    "    \n",
    "    '''\n",
    "    loss = history.history['loss']\n",
    "    accuracy = history.history['accuracy']\n",
    "    val_loss = history.history['val_loss']\n",
    "    val_accuracy = history.history['val_accuracy']\n",
    "    x = range(1, len(loss) + 1)\n",
    "\n",
    "    plt.figure(figsize=(12, 5))\n",
    "    plt.subplot(1, 2, 1)\n",
    "    plt.plot(x, accuracy, label='Training acc', color='#707bfb')\n",
    "    plt.plot(x, val_accuracy, label='Validation acc', color='#fbcbff')\n",
    "    plt.title('Training and validation accuracy')\n",
    "    plt.grid(True)\n",
    "    plt.legend()\n",
    "    \n",
    "    plt.subplot(1, 2, 2)\n",
    "    plt.plot(x, loss, label='Training loss', color='#707bfb')\n",
    "    plt.plot(x, val_loss, label='Validation loss', color='#fbcbff')\n",
    "    plt.title('Training and validation loss')\n",
    "    plt.grid(True)\n",
    "    plt.legend()"
   ]
  },
  {
   "cell_type": "code",
   "execution_count": 39,
   "metadata": {
    "id": "VLfQTCgola-F"
   },
   "outputs": [
    {
     "name": "stdout",
     "output_type": "stream",
     "text": [
      "63/63 [==============================] - 5s 83ms/step - loss: 0.3080 - accuracy: 0.8925\n"
     ]
    },
    {
     "data": {
      "text/plain": [
       "[0.307956337928772, 0.8924999833106995]"
      ]
     },
     "execution_count": 39,
     "metadata": {},
     "output_type": "execute_result"
    }
   ],
   "source": [
    "model.evaluate(X_test_pad, y_test) \n"
   ]
  },
  {
   "cell_type": "code",
   "execution_count": 40,
   "metadata": {
    "id": "wpevLN4wla6i"
   },
   "outputs": [
    {
     "name": "stdout",
     "output_type": "stream",
     "text": [
      "63/63 [==============================] - 7s 91ms/step\n"
     ]
    }
   ],
   "source": [
    "y_pred = np.argmax(model.predict(X_test_pad), axis=1)\n"
   ]
  },
  {
   "cell_type": "code",
   "execution_count": 41,
   "metadata": {
    "id": "AyLnmqn4hNfK"
   },
   "outputs": [
    {
     "name": "stdout",
     "output_type": "stream",
     "text": [
      "              precision    recall  f1-score   support\n",
      "\n",
      "           0       0.92      0.89      0.91       275\n",
      "           1       0.67      0.95      0.79       159\n",
      "           2       0.90      0.86      0.88       224\n",
      "           3       0.92      0.89      0.90       695\n",
      "           4       0.94      0.91      0.93       581\n",
      "           5       0.77      0.76      0.76        66\n",
      "\n",
      "    accuracy                           0.89      2000\n",
      "   macro avg       0.85      0.88      0.86      2000\n",
      "weighted avg       0.90      0.89      0.89      2000\n",
      "\n"
     ]
    }
   ],
   "source": [
    "from sklearn import metrics\n",
    "print(metrics.classification_report(y_test, y_pred))"
   ]
  },
  {
   "cell_type": "code",
   "execution_count": 42,
   "metadata": {
    "id": "n7CwQMozhNhj"
   },
   "outputs": [],
   "source": [
    "# setting a custom colormap\n",
    "from matplotlib.colors import LinearSegmentedColormap\n",
    "colors = ['#ffffff', '#fbcbff', '#707bfb']\n",
    "cmap = LinearSegmentedColormap.from_list('mycmap', colors)"
   ]
  },
  {
   "cell_type": "code",
   "execution_count": 43,
   "metadata": {
    "id": "1QAWuZWohNkS"
   },
   "outputs": [],
   "source": [
    "def plot_confusion_matrix(matrix, fmt=''):\n",
    "  '''\n",
    "  Accepts a confusion matrix and a format param\n",
    "  Plots the matrix as a heatmap\n",
    "  Returns nothing\n",
    "\n",
    "  '''\n",
    "  plt.figure(figsize=(6, 5))\n",
    "  sns.heatmap(matrix, annot=True, \n",
    "              cmap=cmap, \n",
    "              fmt=fmt, \n",
    "              xticklabels=emotions_to_labels.keys(), \n",
    "              yticklabels=emotions_to_labels.keys())\n",
    "  plt.ylabel('True labels')\n",
    "  plt.xlabel('Predicted labels')\n",
    "  plt.show()"
   ]
  },
  {
   "cell_type": "code",
   "execution_count": 44,
   "metadata": {
    "id": "7YvZUjhxhNnK"
   },
   "outputs": [
    {
     "data": {
      "image/png": "[encoded data removed]",
      "text/plain": [
       "<Figure size 1200x500 with 2 Axes>"
      ]
     },
     "metadata": {},
     "output_type": "display_data"
    }
   ],
   "source": [
    "plot_history(history)"
   ]
  },
  {
   "cell_type": "code",
   "execution_count": 45,
   "metadata": {
    "id": "zTnzyPjghNqG"
   },
   "outputs": [
    {
     "name": "stdout",
     "output_type": "stream",
     "text": [
      "63/63 [==============================] - 5s 87ms/step - loss: 0.3080 - accuracy: 0.8925\n"
     ]
    },
    {
     "data": {
      "text/plain": [
       "[0.307956337928772, 0.8924999833106995]"
      ]
     },
     "execution_count": 45,
     "metadata": {},
     "output_type": "execute_result"
    }
   ],
   "source": [
    "model.evaluate(X_test_pad, y_test) "
   ]
  },
  {
   "cell_type": "code",
   "execution_count": 46,
   "metadata": {
    "id": "HLtEcqSohNs2"
   },
   "outputs": [
    {
     "name": "stdout",
     "output_type": "stream",
     "text": [
      "63/63 [==============================] - 6s 96ms/step\n"
     ]
    }
   ],
   "source": [
    "y_pred = np.argmax(model.predict(X_test_pad), axis=1)"
   ]
  },
  {
   "cell_type": "code",
   "execution_count": 48,
   "metadata": {
    "id": "gfiLnSwohNwG"
   },
   "outputs": [
    {
     "name": "stdout",
     "output_type": "stream",
     "text": [
      "              precision    recall  f1-score   support\n",
      "\n",
      "           0       0.92      0.89      0.91       275\n",
      "           1       0.67      0.95      0.79       159\n",
      "           2       0.90      0.86      0.88       224\n",
      "           3       0.92      0.89      0.90       695\n",
      "           4       0.94      0.91      0.93       581\n",
      "           5       0.77      0.76      0.76        66\n",
      "\n",
      "    accuracy                           0.89      2000\n",
      "   macro avg       0.85      0.88      0.86      2000\n",
      "weighted avg       0.90      0.89      0.89      2000\n",
      "\n"
     ]
    }
   ],
   "source": [
    "from sklearn import metrics\n",
    "print(metrics.classification_report(y_test, y_pred))"
   ]
  },
  {
   "cell_type": "code",
   "execution_count": 49,
   "metadata": {
    "id": "wTWJlox7hNzQ"
   },
   "outputs": [],
   "source": [
    "# setting a custom colormap\n",
    "from matplotlib.colors import LinearSegmentedColormap\n",
    "colors = ['#ffffff', '#fbcbff', '#707bfb']\n",
    "cmap = LinearSegmentedColormap.from_list('mycmap', colors)"
   ]
  },
  {
   "cell_type": "code",
   "execution_count": 50,
   "metadata": {
    "id": "0aTcL5OhhN1d"
   },
   "outputs": [],
   "source": [
    "def plot_confusion_matrix(matrix, fmt=''):\n",
    "  '''\n",
    "  Accepts a confusion matrix and a format param\n",
    "  Plots the matrix as a heatmap\n",
    "  Returns nothing\n",
    "\n",
    "  '''\n",
    "  plt.figure(figsize=(6, 5))\n",
    "  sns.heatmap(matrix, annot=True, \n",
    "              cmap=cmap, \n",
    "              fmt=fmt, \n",
    "              xticklabels=emotions_to_labels.keys(), \n",
    "              yticklabels=emotions_to_labels.keys())\n",
    "  plt.ylabel('True labels')\n",
    "  plt.xlabel('Predicted labels')\n",
    "  plt.show()\n"
   ]
  },
  {
   "cell_type": "code",
   "execution_count": 51,
   "metadata": {
    "id": "BZPocCiChN4b"
   },
   "outputs": [
    {
     "data": {
      "image/png": "[encoded data removed]",
      "text/plain": [
       "<Figure size 600x500 with 2 Axes>"
      ]
     },
     "metadata": {},
     "output_type": "display_data"
    }
   ],
   "source": [
    "matrix = metrics.confusion_matrix(y_test, y_pred)\n",
    "plot_confusion_matrix(matrix)"
   ]
  },
  {
   "cell_type": "code",
   "execution_count": 52,
   "metadata": {
    "id": "Ck5Sj3t_hN7g"
   },
   "outputs": [
    {
     "data": {
      "image/png": "[encoded data removed]",
      "text/plain": [
       "<Figure size 600x500 with 2 Axes>"
      ]
     },
     "metadata": {},
     "output_type": "display_data"
    }
   ],
   "source": [
    "# create new confusion matrix\n",
    "# where values are normed by row\n",
    "matrix_new = np.zeros(matrix.shape)\n",
    "\n",
    "for row in range(len(matrix)):\n",
    "  sum = np.sum(matrix[row])\n",
    "  for element in range(len(matrix[row])):\n",
    "    matrix_new[row][element] = matrix[row][element] / sum\n",
    "\n",
    "plot_confusion_matrix(matrix_new, fmt='.2')"
   ]
  },
  {
   "cell_type": "markdown",
   "metadata": {
    "id": "TmKXH-yoi5pP"
   },
   "source": [
    "Test model on custom data"
   ]
  },
  {
   "cell_type": "code",
   "execution_count": 53,
   "metadata": {
    "id": "_EW3nm-OhN-e"
   },
   "outputs": [],
   "source": [
    "def predict(texts):\n",
    "  '''\n",
    "  Accepts array if texts (strings)\n",
    "  Prints sentence and the corresponding label (emotion)\n",
    "  Returns nothing\n",
    "  \n",
    "  '''\n",
    "  texts_prepr = [text_preprocess(t) for t in texts]\n",
    "  sequences = tokenizer.texts_to_sequences(texts_prepr)\n",
    "  pad = pad_sequences(sequences, maxlen=MAX_LEN)\n",
    "\n",
    "  predictions = model.predict(pad)\n",
    "  labels = np.argmax(predictions, axis=1)\n",
    "  \n",
    "  for i, lbl in enumerate(labels):\n",
    "    print(f'\\'{texts[i]}\\' --> {labels_to_emotions[lbl]}')"
   ]
  },
  {
   "cell_type": "code",
   "execution_count": 54,
   "metadata": {
    "id": "Cg7g0Ca8hOB-"
   },
   "outputs": [
    {
     "name": "stdout",
     "output_type": "stream",
     "text": [
      "1/1 [==============================] - 0s 46ms/step\n",
      "'help me' --> anger\n",
      "'The man felt lonely' --> sadness\n",
      "'The guests felt satisfied' --> joy\n"
     ]
    }
   ],
   "source": [
    "test_texts = ['help me', 'The man felt lonely', 'The guests felt satisfied']\n",
    "\n",
    "predict(test_texts)\n"
   ]
  },
  {
   "cell_type": "code",
   "execution_count": null,
   "metadata": {},
   "outputs": [],
   "source": []
  },
  {
   "cell_type": "code",
   "execution_count": null,
   "metadata": {},
   "outputs": [],
   "source": []
  },
  {
   "cell_type": "code",
   "execution_count": null,
   "metadata": {},
   "outputs": [],
   "source": []
  },
  {
   "cell_type": "code",
   "execution_count": 103,
   "metadata": {},
   "outputs": [],
   "source": [
    "import pickle"
   ]
  },
  {
   "cell_type": "code",
   "execution_count": 113,
   "metadata": {},
   "outputs": [],
   "source": [
    "model_dict = {\n",
    "    'tokenizer': tokenizer,\n",
    "    'max_len': MAX_LEN,\n",
    "    'weight_matrix': weight_matrix,\n",
    "    'model': model,\n",
    "    #'text_preprocess':text_preprocess,\n",
    "}"
   ]
  },
  {
   "cell_type": "code",
   "execution_count": 114,
   "metadata": {},
   "outputs": [
    {
     "name": "stderr",
     "output_type": "stream",
     "text": [
      "WARNING:absl:Found untraced functions such as lstm_cell_10_layer_call_fn, lstm_cell_10_layer_call_and_return_conditional_losses, lstm_cell_11_layer_call_fn, lstm_cell_11_layer_call_and_return_conditional_losses, lstm_cell_13_layer_call_fn while saving (showing 5 of 12). These functions will not be directly callable after loading.\n"
     ]
    },
    {
     "name": "stdout",
     "output_type": "stream",
     "text": [
      "INFO:tensorflow:Assets written to: ram://aaa06d38-cea7-4a77-9cc8-f7d9bcbefa5d/assets\n"
     ]
    },
    {
     "name": "stderr",
     "output_type": "stream",
     "text": [
      "INFO:tensorflow:Assets written to: ram://aaa06d38-cea7-4a77-9cc8-f7d9bcbefa5d/assets\n"
     ]
    }
   ],
   "source": [
    "with open('mood_predict.pkl', 'wb') as f:\n",
    "    pickle.dump(model_dict, f)"
   ]
  },
  {
   "cell_type": "code",
   "execution_count": null,
   "metadata": {},
   "outputs": [],
   "source": []
  },
  {
   "cell_type": "code",
   "execution_count": null,
   "metadata": {},
   "outputs": [],
   "source": []
  },
  {
   "cell_type": "code",
   "execution_count": null,
   "metadata": {},
   "outputs": [],
   "source": []
  },
  {
   "cell_type": "code",
   "execution_count": null,
   "metadata": {},
   "outputs": [],
   "source": []
  },
  {
   "cell_type": "code",
   "execution_count": null,
   "metadata": {},
   "outputs": [],
   "source": []
  },
  {
   "cell_type": "code",
   "execution_count": null,
   "metadata": {},
   "outputs": [],
   "source": []
  },
  {
   "cell_type": "code",
   "execution_count": null,
   "metadata": {},
   "outputs": [],
   "source": []
  },
  {
   "cell_type": "code",
   "execution_count": null,
   "metadata": {},
   "outputs": [],
   "source": []
  },
  {
   "cell_type": "code",
   "execution_count": null,
   "metadata": {},
   "outputs": [],
   "source": []
  },
  {
   "cell_type": "code",
   "execution_count": 56,
   "metadata": {},
   "outputs": [
    {
     "name": "stderr",
     "output_type": "stream",
     "text": [
      "WARNING:absl:Found untraced functions such as lstm_cell_10_layer_call_fn, lstm_cell_10_layer_call_and_return_conditional_losses, lstm_cell_11_layer_call_fn, lstm_cell_11_layer_call_and_return_conditional_losses, lstm_cell_13_layer_call_fn while saving (showing 5 of 12). These functions will not be directly callable after loading.\n"
     ]
    },
    {
     "name": "stdout",
     "output_type": "stream",
     "text": [
      "INFO:tensorflow:Assets written to: ram://05f55747-d664-4ae8-afe7-7875667e8a02/assets\n"
     ]
    },
    {
     "name": "stderr",
     "output_type": "stream",
     "text": [
      "INFO:tensorflow:Assets written to: ram://05f55747-d664-4ae8-afe7-7875667e8a02/assets\n"
     ]
    }
   ],
   "source": [
    "filename = 'finalmood_model.sav'\n",
    "pickle.dump(model, open(filename, 'wb'))"
   ]
  },
  {
   "cell_type": "code",
   "execution_count": 57,
   "metadata": {},
   "outputs": [
    {
     "data": {
      "text/plain": [
       "<keras.engine.sequential.Sequential at 0x2fc4362c0>"
      ]
     },
     "execution_count": 57,
     "metadata": {},
     "output_type": "execute_result"
    }
   ],
   "source": [
    "pickle.load(open(filename, 'rb'))"
   ]
  },
  {
   "cell_type": "code",
   "execution_count": null,
   "metadata": {},
   "outputs": [],
   "source": []
  },
  {
   "cell_type": "code",
   "execution_count": 99,
   "metadata": {},
   "outputs": [],
   "source": [
    "\n",
    "def predict_mood(texts):\n",
    "    # Load the saved model from the file\n",
    "    with open('finalmood_model.sav', 'rb') as f:\n",
    "        model = pickle.load(f)\n",
    "    \n",
    "    texts_prepr = [text_preprocess(texts)]\n",
    "    #sequences = tokenizer.texts_to_sequences(texts_prepr)\n",
    "    #pad = pad_sequences(sequences, maxlen=MAX_LEN)\n",
    "\n",
    "    predictions = model.predict(texts_prepr)\n",
    "    #labels = np.argmax(predictions, axis=1)\n",
    "    \n",
    "    print(predictions)\n",
    "    #for i, lbl in enumerate(labels):\n",
    "        #print(f'\\'{texts[i]}\\' --> {labels_to_emotions[lbl]}')"
   ]
  },
  {
   "cell_type": "code",
   "execution_count": 100,
   "metadata": {},
   "outputs": [
    {
     "ename": "ValueError",
     "evalue": "in user code:\n\n    File \"/Users/janmeshSingh/anaconda3/lib/python3.10/site-packages/keras/engine/training.py\", line 2041, in predict_function  *\n        return step_function(self, iterator)\n    File \"/Users/janmeshSingh/anaconda3/lib/python3.10/site-packages/keras/engine/training.py\", line 2027, in step_function  **\n        outputs = model.distribute_strategy.run(run_step, args=(data,))\n    File \"/Users/janmeshSingh/anaconda3/lib/python3.10/site-packages/keras/engine/training.py\", line 2015, in run_step  **\n        outputs = model.predict_step(data)\n    File \"/Users/janmeshSingh/anaconda3/lib/python3.10/site-packages/keras/engine/training.py\", line 1983, in predict_step\n        return self(x, training=False)\n    File \"/Users/janmeshSingh/anaconda3/lib/python3.10/site-packages/keras/utils/traceback_utils.py\", line 70, in error_handler\n        raise e.with_traceback(filtered_tb) from None\n    File \"/Users/janmeshSingh/anaconda3/lib/python3.10/site-packages/keras/engine/input_spec.py\", line 295, in assert_input_compatibility\n        raise ValueError(\n\n    ValueError: Input 0 of layer \"sequential_1\" is incompatible with the layer: expected shape=(None, 35), found shape=(None, 4)\n",
     "output_type": "error",
     "traceback": [
      "\u001b[0;31m---------------------------------------------------------------------------\u001b[0m",
      "\u001b[0;31mValueError\u001b[0m                                Traceback (most recent call last)",
      "Cell \u001b[0;32mIn[100], line 2\u001b[0m\n\u001b[1;32m      1\u001b[0m input_string \u001b[38;5;241m=\u001b[39m \u001b[38;5;124m\"\u001b[39m\u001b[38;5;124mI feel happy today\u001b[39m\u001b[38;5;124m\"\u001b[39m\n\u001b[0;32m----> 2\u001b[0m predicted_label \u001b[38;5;241m=\u001b[39m \u001b[43mpredict_mood\u001b[49m\u001b[43m(\u001b[49m\u001b[43minput_string\u001b[49m\u001b[43m)\u001b[49m\n\u001b[1;32m      3\u001b[0m \u001b[38;5;28mprint\u001b[39m(predicted_label)\n",
      "Cell \u001b[0;32mIn[99], line 10\u001b[0m, in \u001b[0;36mpredict_mood\u001b[0;34m(texts)\u001b[0m\n\u001b[1;32m      6\u001b[0m texts_prepr \u001b[38;5;241m=\u001b[39m [text_preprocess(texts)]\n\u001b[1;32m      7\u001b[0m \u001b[38;5;66;03m#sequences = tokenizer.texts_to_sequences(texts_prepr)\u001b[39;00m\n\u001b[1;32m      8\u001b[0m \u001b[38;5;66;03m#pad = pad_sequences(sequences, maxlen=MAX_LEN)\u001b[39;00m\n\u001b[0;32m---> 10\u001b[0m predictions \u001b[38;5;241m=\u001b[39m \u001b[43mmodel\u001b[49m\u001b[38;5;241;43m.\u001b[39;49m\u001b[43mpredict\u001b[49m\u001b[43m(\u001b[49m\u001b[43mtexts_prepr\u001b[49m\u001b[43m)\u001b[49m\n\u001b[1;32m     11\u001b[0m \u001b[38;5;66;03m#labels = np.argmax(predictions, axis=1)\u001b[39;00m\n\u001b[1;32m     13\u001b[0m \u001b[38;5;28mprint\u001b[39m(predictions)\n",
      "File \u001b[0;32m~/anaconda3/lib/python3.10/site-packages/keras/utils/traceback_utils.py:70\u001b[0m, in \u001b[0;36mfilter_traceback.<locals>.error_handler\u001b[0;34m(*args, **kwargs)\u001b[0m\n\u001b[1;32m     67\u001b[0m     filtered_tb \u001b[38;5;241m=\u001b[39m _process_traceback_frames(e\u001b[38;5;241m.\u001b[39m__traceback__)\n\u001b[1;32m     68\u001b[0m     \u001b[38;5;66;03m# To get the full stack trace, call:\u001b[39;00m\n\u001b[1;32m     69\u001b[0m     \u001b[38;5;66;03m# `tf.debugging.disable_traceback_filtering()`\u001b[39;00m\n\u001b[0;32m---> 70\u001b[0m     \u001b[38;5;28;01mraise\u001b[39;00m e\u001b[38;5;241m.\u001b[39mwith_traceback(filtered_tb) \u001b[38;5;28;01mfrom\u001b[39;00m \u001b[38;5;28mNone\u001b[39m\n\u001b[1;32m     71\u001b[0m \u001b[38;5;28;01mfinally\u001b[39;00m:\n\u001b[1;32m     72\u001b[0m     \u001b[38;5;28;01mdel\u001b[39;00m filtered_tb\n",
      "File \u001b[0;32m/var/folders/87/7pbmrlhx389_kbrjx_x4qkbm0000gn/T/__autograph_generated_filenvwm3cpt.py:15\u001b[0m, in \u001b[0;36mouter_factory.<locals>.inner_factory.<locals>.tf__predict_function\u001b[0;34m(iterator)\u001b[0m\n\u001b[1;32m     13\u001b[0m \u001b[38;5;28;01mtry\u001b[39;00m:\n\u001b[1;32m     14\u001b[0m     do_return \u001b[38;5;241m=\u001b[39m \u001b[38;5;28;01mTrue\u001b[39;00m\n\u001b[0;32m---> 15\u001b[0m     retval_ \u001b[38;5;241m=\u001b[39m ag__\u001b[38;5;241m.\u001b[39mconverted_call(ag__\u001b[38;5;241m.\u001b[39mld(step_function), (ag__\u001b[38;5;241m.\u001b[39mld(\u001b[38;5;28mself\u001b[39m), ag__\u001b[38;5;241m.\u001b[39mld(iterator)), \u001b[38;5;28;01mNone\u001b[39;00m, fscope)\n\u001b[1;32m     16\u001b[0m \u001b[38;5;28;01mexcept\u001b[39;00m:\n\u001b[1;32m     17\u001b[0m     do_return \u001b[38;5;241m=\u001b[39m \u001b[38;5;28;01mFalse\u001b[39;00m\n",
      "\u001b[0;31mValueError\u001b[0m: in user code:\n\n    File \"/Users/janmeshSingh/anaconda3/lib/python3.10/site-packages/keras/engine/training.py\", line 2041, in predict_function  *\n        return step_function(self, iterator)\n    File \"/Users/janmeshSingh/anaconda3/lib/python3.10/site-packages/keras/engine/training.py\", line 2027, in step_function  **\n        outputs = model.distribute_strategy.run(run_step, args=(data,))\n    File \"/Users/janmeshSingh/anaconda3/lib/python3.10/site-packages/keras/engine/training.py\", line 2015, in run_step  **\n        outputs = model.predict_step(data)\n    File \"/Users/janmeshSingh/anaconda3/lib/python3.10/site-packages/keras/engine/training.py\", line 1983, in predict_step\n        return self(x, training=False)\n    File \"/Users/janmeshSingh/anaconda3/lib/python3.10/site-packages/keras/utils/traceback_utils.py\", line 70, in error_handler\n        raise e.with_traceback(filtered_tb) from None\n    File \"/Users/janmeshSingh/anaconda3/lib/python3.10/site-packages/keras/engine/input_spec.py\", line 295, in assert_input_compatibility\n        raise ValueError(\n\n    ValueError: Input 0 of layer \"sequential_1\" is incompatible with the layer: expected shape=(None, 35), found shape=(None, 4)\n"
     ]
    }
   ],
   "source": [
    "input_string = \"I feel happy today\"\n",
    "predicted_label = predict_mood(input_string)\n",
    "print(predicted_label)\n"
   ]
  },
  {
   "cell_type": "code",
   "execution_count": 75,
   "metadata": {},
   "outputs": [],
   "source": [
    "def predict_output(user_input, filename):\n",
    "    # Load the saved model from the file\n",
    "    with open(filename, 'rb') as f:\n",
    "        model = pickle.load(f)\n",
    "    \n",
    "    # Make predictions using the loaded model\n",
    "    predictions = model.predict(user_input)\n",
    "    \n",
    "    # Return the predicted output\n",
    "    return predictions"
   ]
  },
  {
   "cell_type": "code",
   "execution_count": 76,
   "metadata": {},
   "outputs": [
    {
     "name": "stdout",
     "output_type": "stream",
     "text": [
      "Please enter a string: i am tired\n"
     ]
    }
   ],
   "source": [
    "user_input = input(\"Please enter a string: \")\n"
   ]
  },
  {
   "cell_type": "code",
   "execution_count": 77,
   "metadata": {},
   "outputs": [
    {
     "ename": "IndexError",
     "evalue": "tuple index out of range",
     "output_type": "error",
     "traceback": [
      "\u001b[0;31m---------------------------------------------------------------------------\u001b[0m",
      "\u001b[0;31mIndexError\u001b[0m                                Traceback (most recent call last)",
      "Cell \u001b[0;32mIn[77], line 2\u001b[0m\n\u001b[1;32m      1\u001b[0m file_name\u001b[38;5;241m=\u001b[39m\u001b[38;5;124m'\u001b[39m\u001b[38;5;124mfinalmood_model.sav\u001b[39m\u001b[38;5;124m'\u001b[39m\n\u001b[0;32m----> 2\u001b[0m \u001b[43mpredict_output\u001b[49m\u001b[43m(\u001b[49m\u001b[43muser_input\u001b[49m\u001b[43m,\u001b[49m\u001b[43mfile_name\u001b[49m\u001b[43m)\u001b[49m\n",
      "Cell \u001b[0;32mIn[75], line 7\u001b[0m, in \u001b[0;36mpredict_output\u001b[0;34m(user_input, filename)\u001b[0m\n\u001b[1;32m      4\u001b[0m     model \u001b[38;5;241m=\u001b[39m pickle\u001b[38;5;241m.\u001b[39mload(f)\n\u001b[1;32m      6\u001b[0m \u001b[38;5;66;03m# Make predictions using the loaded model\u001b[39;00m\n\u001b[0;32m----> 7\u001b[0m predictions \u001b[38;5;241m=\u001b[39m \u001b[43mmodel\u001b[49m\u001b[38;5;241;43m.\u001b[39;49m\u001b[43mpredict\u001b[49m\u001b[43m(\u001b[49m\u001b[43muser_input\u001b[49m\u001b[43m)\u001b[49m\n\u001b[1;32m      9\u001b[0m \u001b[38;5;66;03m# Return the predicted output\u001b[39;00m\n\u001b[1;32m     10\u001b[0m \u001b[38;5;28;01mreturn\u001b[39;00m predictions\n",
      "File \u001b[0;32m~/anaconda3/lib/python3.10/site-packages/keras/utils/traceback_utils.py:70\u001b[0m, in \u001b[0;36mfilter_traceback.<locals>.error_handler\u001b[0;34m(*args, **kwargs)\u001b[0m\n\u001b[1;32m     67\u001b[0m     filtered_tb \u001b[38;5;241m=\u001b[39m _process_traceback_frames(e\u001b[38;5;241m.\u001b[39m__traceback__)\n\u001b[1;32m     68\u001b[0m     \u001b[38;5;66;03m# To get the full stack trace, call:\u001b[39;00m\n\u001b[1;32m     69\u001b[0m     \u001b[38;5;66;03m# `tf.debugging.disable_traceback_filtering()`\u001b[39;00m\n\u001b[0;32m---> 70\u001b[0m     \u001b[38;5;28;01mraise\u001b[39;00m e\u001b[38;5;241m.\u001b[39mwith_traceback(filtered_tb) \u001b[38;5;28;01mfrom\u001b[39;00m \u001b[38;5;28mNone\u001b[39m\n\u001b[1;32m     71\u001b[0m \u001b[38;5;28;01mfinally\u001b[39;00m:\n\u001b[1;32m     72\u001b[0m     \u001b[38;5;28;01mdel\u001b[39;00m filtered_tb\n",
      "File \u001b[0;32m~/anaconda3/lib/python3.10/site-packages/tensorflow/python/framework/tensor_shape.py:910\u001b[0m, in \u001b[0;36mTensorShape.__getitem__\u001b[0;34m(self, key)\u001b[0m\n\u001b[1;32m    908\u001b[0m \u001b[38;5;28;01melse\u001b[39;00m:\n\u001b[1;32m    909\u001b[0m   \u001b[38;5;28;01mif\u001b[39;00m \u001b[38;5;28mself\u001b[39m\u001b[38;5;241m.\u001b[39m_v2_behavior:\n\u001b[0;32m--> 910\u001b[0m     \u001b[38;5;28;01mreturn\u001b[39;00m \u001b[38;5;28;43mself\u001b[39;49m\u001b[38;5;241;43m.\u001b[39;49m\u001b[43m_dims\u001b[49m\u001b[43m[\u001b[49m\u001b[43mkey\u001b[49m\u001b[43m]\u001b[49m\n\u001b[1;32m    911\u001b[0m   \u001b[38;5;28;01melse\u001b[39;00m:\n\u001b[1;32m    912\u001b[0m     \u001b[38;5;28;01mreturn\u001b[39;00m \u001b[38;5;28mself\u001b[39m\u001b[38;5;241m.\u001b[39mdims[key]\n",
      "\u001b[0;31mIndexError\u001b[0m: tuple index out of range"
     ]
    }
   ],
   "source": [
    "\n",
    "file_name='finalmood_model.sav'\n",
    "predict_output(user_input,file_name)"
   ]
  },
  {
   "cell_type": "code",
   "execution_count": null,
   "metadata": {},
   "outputs": [],
   "source": [
    "\n"
   ]
  }
 ],
 "metadata": {
  "colab": {
   "provenance": []
  },
  "kernelspec": {
   "display_name": "Python 3 (ipykernel)",
   "language": "python",
   "name": "python3"
  },
  "language_info": {
   "codemirror_mode": {
    "name": "ipython",
    "version": 3
   },
   "file_extension": ".py",
   "mimetype": "text/x-python",
   "name": "python",
   "nbconvert_exporter": "python",
   "pygments_lexer": "ipython3",
   "version": "3.10.9"
  }
 },
 "nbformat": 4,
 "nbformat_minor": 1
}
